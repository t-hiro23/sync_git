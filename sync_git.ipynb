{
 "cells": [
  {
   "cell_type": "code",
   "execution_count": null,
   "metadata": {},
   "outputs": [],
   "source": [
    "import subprocess\n",
    "import configparser\n",
    "import os\n",
    "import sys\n",
    "import shutil\n",
    "from sync_git_lib.sync_git_lib import *\n",
    "\n",
    "#argv_list = [\"./from_sandbox_python_to_sandbox_python2/setting.ini\", \"src_user\", \"src_pass\", \"dst_usr\", \"dst_pass\"]\n",
    "argv_list = [\"./from_sandbox_python_to_sandbox_python2/setting.ini\", \"aaa\", \"bbb\", \"ccc\", \"ddd\"]"
   ]
  },
  {
   "cell_type": "code",
   "execution_count": null,
   "metadata": {},
   "outputs": [],
   "source": [
    "start_dir = os.path.abspath(\".\")\n",
    "print(\"DEBUG: start dir = \" + start_dir)"
   ]
  },
  {
   "cell_type": "code",
   "execution_count": null,
   "metadata": {},
   "outputs": [],
   "source": [
    "# =========================\n",
    "# 設定ファイルの読み込み\n",
    "# =========================\n",
    "setting_file_path = os.path.abspath(argv_list[0]) # コマンドライン引数にする\n",
    "print(\"DEBUG: setting_file_path = \" + setting_file_path)\n",
    "\n",
    "setting_file = configparser.ConfigParser()\n",
    "setting_file.read(setting_file_path, \"UTF-8\")"
   ]
  },
  {
   "cell_type": "code",
   "execution_count": null,
   "metadata": {},
   "outputs": [],
   "source": [
    "src_rep_web_url = setting_file.get(\"SRC_REPOSITORY\", \"web_url\")\n",
    "print(\"DEBUG: src_rep_web_url = \" + src_rep_web_url)\n",
    "\n",
    "src_rep_clone_url = setting_file.get(\"SRC_REPOSITORY\", \"clone_url\")\n",
    "print(\"DEBUG: src_rep_clone_url = \" + src_rep_clone_url)\n",
    "\n",
    "src_rep_branch = setting_file.get(\"SRC_REPOSITORY\", \"branch\")\n",
    "print(\"DEBUG: src_rep_branch = \" + src_rep_branch)\n",
    "\n",
    "#src_rep_user = setting_file.get(\"SRC_REPOSITORY\", \"user\") # コマンドライン引数にする\n",
    "src_rep_user = argv_list[1]\n",
    "print(\"DEBUG: src_rep_user = \" + src_rep_user)\n",
    "\n",
    "#src_rep_pass = setting_file.get(\"SRC_REPOSITORY\", \"pass\") # コマンドライン引数にする\n",
    "src_rep_pass = argv_list[2]\n",
    "print(\"DEBUG: src_rep_pass = \" + src_rep_pass)\n",
    "\n",
    "src_rep_clone_url_with_user_and_pass = make_clone_url_with_user_and_pass(src_rep_clone_url, src_rep_user, src_rep_pass)\n",
    "print(\"DEBUG: src_rep_clone_url_with_user_and_pass = \" + src_rep_clone_url_with_user_and_pass)\n",
    "\n",
    "src_rep_dir = setting_file.get(\"SRC_REPOSITORY\", \"dir\")\n",
    "print(\"DEBUG: src_rep_dir = \" + src_rep_dir)\n",
    "\n",
    "src_rep_label = setting_file.get(\"SRC_REPOSITORY\", \"label\")\n",
    "print(\"DEBUG: src_rep_label = \" + src_rep_label)\n",
    "\n",
    "the_latest_sync_hash = setting_file.get(\"SRC_REPOSITORY\", \"the_latest_sync_hash\")\n",
    "print(\"DEBUG: the_latest_sync_hash = \" + the_latest_sync_hash)"
   ]
  },
  {
   "cell_type": "code",
   "execution_count": null,
   "metadata": {},
   "outputs": [],
   "source": [
    "dst_rep_web_url = setting_file.get(\"DST_REPOSITORY\", \"web_url\")\n",
    "print(\"DEBUG: dst_rep_web_url = \" + dst_rep_web_url)\n",
    "\n",
    "dst_rep_clone_url = setting_file.get(\"DST_REPOSITORY\", \"clone_url\")\n",
    "print(\"DEBUG: dst_rep_clone_url = \" + dst_rep_clone_url)\n",
    "\n",
    "dst_rep_branch = setting_file.get(\"DST_REPOSITORY\", \"branch\")\n",
    "print(\"DEBUG: dst_rep_branch = \" + dst_rep_branch)\n",
    "\n",
    "#dst_rep_user = setting_file.get(\"DST_REPOSITORY\", \"user\") # コマンドライン引数にする\n",
    "dst_rep_user = argv_list[3]\n",
    "print(\"DEBUG: dst_rep_user = \" + dst_rep_user)\n",
    "\n",
    "#dst_rep_pass = setting_file.get(\"DST_REPOSITORY\", \"pass\") # コマンドライン引数にする\n",
    "dst_rep_pass = argv_list[4]\n",
    "print(\"DEBUG: dst_rep_pass = \" + dst_rep_pass)\n",
    "\n",
    "dst_rep_clone_url_with_user_and_pass = make_clone_url_with_user_and_pass(dst_rep_clone_url, dst_rep_user, dst_rep_pass)\n",
    "print(\"DEBUG: dst_rep_clone_url_with_user_and_pass = \" + dst_rep_clone_url_with_user_and_pass)\n",
    "\n",
    "dst_rep_dir = setting_file.get(\"DST_REPOSITORY\", \"dir\")\n",
    "print(\"DEBUG: dst_rep_dir = \" + dst_rep_dir)\n",
    "\n",
    "dst_rep_label = setting_file.get(\"DST_REPOSITORY\", \"label\")\n",
    "print(\"DEBUG: dst_rep_label = \" + dst_rep_label)"
   ]
  },
  {
   "cell_type": "code",
   "execution_count": null,
   "metadata": {},
   "outputs": [],
   "source": [
    "work_dir = os.path.abspath(setting_file.get(\"TOOL\", \"work_dir\"))\n",
    "print(\"DEBUG: work_dir = \" + work_dir)\n",
    "\n",
    "info_label = setting_file.get(\"TOOL\", \"info_label\")\n",
    "print(\"DEBUG: info_label = \" + info_label)\n",
    "\n",
    "tool_label = setting_file.get(\"TOOL\", \"tool_label\")\n",
    "print(\"DEBUG: tool_label = \" + tool_label)"
   ]
  },
  {
   "cell_type": "code",
   "execution_count": null,
   "metadata": {},
   "outputs": [],
   "source": [
    "# 既にworkディレクトリがあったら異常終了する\n",
    "if os.path.isdir(work_dir):\n",
    "    print(\"ERROR: word directory, \" + work_dir + \" already exists.\")\n",
    "    sys.exit(1)\n",
    "\n",
    "# workディレクト作成 & 移動\n",
    "os.mkdir(work_dir)\n",
    "os.chdir(work_dir)\n",
    "print(\"DEBUG: current dir = \" + os.path.abspath(\".\"))"
   ]
  },
  {
   "cell_type": "code",
   "execution_count": null,
   "metadata": {},
   "outputs": [],
   "source": [
    "# srcリポジトリをclone\n",
    "clone_repository(src_rep_clone_url_with_user_and_pass, src_rep_dir)"
   ]
  },
  {
   "cell_type": "code",
   "execution_count": null,
   "metadata": {},
   "outputs": [],
   "source": [
    "# dstリポジトリをclone\n",
    "clone_repository(dst_rep_clone_url_with_user_and_pass, dst_rep_dir)"
   ]
  },
  {
   "cell_type": "code",
   "execution_count": null,
   "metadata": {},
   "outputs": [],
   "source": [
    "# =========================\n",
    "# 以降はsrcリポジトリ配下での操作\n",
    "# =========================\n",
    "os.chdir(src_rep_dir)"
   ]
  },
  {
   "cell_type": "code",
   "execution_count": null,
   "metadata": {},
   "outputs": [],
   "source": [
    "# 設定ファイルで指定されたbranchへ移動\n",
    "switch_local_branch_on_src_repository(src_rep_branch)"
   ]
  },
  {
   "cell_type": "code",
   "execution_count": null,
   "metadata": {},
   "outputs": [],
   "source": [
    "# HEADのhashを取得\n",
    "src_rep_head_hash = get_head_hash()\n",
    "print(\"DEBUG: src_rep_head_hash=\" + src_rep_head_hash + \", the_latest_sync_hash=\" + the_latest_sync_hash)\n",
    "\n",
    "# 最後に同期したhashとHEAD hashを比較して、同じだったら同期の必要はないので終了\n",
    "if src_rep_head_hash == the_latest_sync_hash:\n",
    "    print(\"Info: There is nothing to sync. the_latest_sync_hash = \" + the_latest_sync_hash + \", src_rep_head_hash = \" + src_rep_head_hash )\n",
    "    os.chdir(start_dir)\n",
    "    shutil.rmtree(work_dir)\n",
    "    sys.exit(0)"
   ]
  },
  {
   "cell_type": "code",
   "execution_count": null,
   "metadata": {},
   "outputs": [],
   "source": [
    "# git log のlistを取得\n",
    "git_log_list = get_git_log_list(the_latest_sync_hash, src_rep_head_hash)\n",
    "print(\"DEBUG: git_log_list = \\n\" + \"\\n\".join(git_log_list))"
   ]
  },
  {
   "cell_type": "code",
   "execution_count": null,
   "metadata": {},
   "outputs": [],
   "source": [
    "# 無視するgit logを抽出するためのキーワードリストを作る\n",
    "ignored_keyword_list = [dst_rep_label, info_label]\n",
    "print(\"DEBUG: ignored_keyword_list = \\n\" + \"\\n\".join(ignored_keyword_list))\n",
    "\n",
    "# patch化するgit logのリストを作る\n",
    "patched_git_log_list = git_log_list\n",
    "for ignored_keyword in ignored_keyword_list:\n",
    "    keyword = tool_label + ignored_keyword\n",
    "    patched_git_log_list = [git_log for git_log in patched_git_log_list if keyword not in git_log]\n",
    "print(\"DEBUG: patched_git_log_list = \\n\" + \"\\n\".join(patched_git_log_list))\n",
    "\n",
    "# patch化するhashリストを作る\n",
    "patch_hash_list = [git_log.split(\",\")[-1] for git_log in patched_git_log_list]\n",
    "patch_hash_list = patch_hash_list[::-1] #並び順をリバースする(古い順にするため)\n",
    "print(\"DEBUG: patch_hash_list = \\n\" + \"\\n\".join(patch_hash_list))"
   ]
  },
  {
   "cell_type": "code",
   "execution_count": null,
   "metadata": {},
   "outputs": [],
   "source": [
    "# patch化するdiffファイル名のリストを作る\n",
    "patch_file_list = []\n",
    "for index_, hash_ in zip(range(len(patch_hash_list)), patch_hash_list):\n",
    "    patch_file_list += [(\"{0:03d}\".format(index_) + \"_\" + hash_ + \".patch\")]\n",
    "print(\"DEBUG: patch_file_list = \\n\" + \"\\n\".join(patch_file_list))"
   ]
  },
  {
   "cell_type": "code",
   "execution_count": null,
   "metadata": {},
   "outputs": [],
   "source": [
    "# 実際にpatchファイルを作る\n",
    "for hash_, file_ in zip(patch_hash_list, patch_file_list):\n",
    "    make_patch_file(work_dir + \"/\" + file_, hash_)"
   ]
  },
  {
   "cell_type": "code",
   "execution_count": null,
   "metadata": {},
   "outputs": [],
   "source": [
    "# =========================\n",
    "# 以降はdstリポジトリ配下での操作\n",
    "# =========================\n",
    "os.chdir(work_dir)\n",
    "os.chdir(dst_rep_dir)\n",
    "print(\"DEBUG: current dir = \" + os.path.abspath(\".\") )"
   ]
  },
  {
   "cell_type": "code",
   "execution_count": null,
   "metadata": {},
   "outputs": [],
   "source": [
    "# 設定ファイルで指定されたbranchへ移動\n",
    "dst_rep_current_branch = switch_local_branch_on_dst_repository(dst_rep_branch)\n",
    "print(\"DEBUG: dst_rep_current_branch = \" + dst_rep_current_branch)"
   ]
  },
  {
   "cell_type": "code",
   "execution_count": null,
   "metadata": {},
   "outputs": [],
   "source": [
    "# 1つずつ、patchファイルを当ててコミットしていく & 最後にpush\n",
    "commit_label = tool_label + src_rep_label\n",
    "for index_, hash_, file_ in zip(range(len(patch_hash_list)), patch_hash_list, patch_file_list):\n",
    "    git_apply_patch(work_dir + \"/\" + file_)\n",
    "    \n",
    "    git_add_all()\n",
    "    \n",
    "    commit_message = '-m \"' + commit_label + \" \" + str(index_+1) + \"/\" + str(len(patch_hash_list)) + ' merged\" '\n",
    "    commit_message += '-m \"\" '\n",
    "    commit_message += '-m \"' + src_rep_web_url + \"/commit/\" + hash_ + '\"'\n",
    "    git_commit(commit_message)\n",
    "    \n",
    "git_push(dst_rep_branch)"
   ]
  },
  {
   "cell_type": "code",
   "execution_count": null,
   "metadata": {},
   "outputs": [],
   "source": [
    "# =========================\n",
    "# 以降はtoolリポジトリ配下での操作\n",
    "# =========================\n",
    "os.chdir(start_dir)"
   ]
  },
  {
   "cell_type": "code",
   "execution_count": null,
   "metadata": {},
   "outputs": [],
   "source": [
    "# 設定ファイルの最後に同期したhash値をHEAD hashに更新する\n",
    "setting_file.set(\"SRC_REPOSITORY\", \"the_latest_sync_hash\", src_rep_head_hash)\n",
    "\n",
    "#設定ファイルのbranchを更新\n",
    "if not dst_rep_branch == dst_rep_current_branch:\n",
    "    setting_file.set(\"DST_REPOSITORY\", \"branch\", dst_rep_current_branch)\n",
    "\n",
    "fileobj = open(setting_file_path, \"w\")\n",
    "setting_file.write(fileobj)\n",
    "fileobj.close()\n",
    "\n",
    "print(\"DEBUG: DST_REPOSITORY.the_latest_sync_hash = \" + the_latest_sync_hash + \" -> \" + src_rep_head_hash)\n",
    "print(\"DEBUG: DST_REPOSITORY.branch = \" + dst_rep_branch + \" -> \" + dst_rep_current_branch)"
   ]
  },
  {
   "cell_type": "code",
   "execution_count": null,
   "metadata": {},
   "outputs": [],
   "source": [
    "setting_file_path = argv_list[0] #仮対処\n",
    "\n",
    "# 設定した更新ファイルをコミットする & 最後にpush\n",
    "git_add(setting_file_path)\n",
    "\n",
    "commit_message = '-m \"' + tool_label + \" \" + src_rep_label + \"->\" + dst_rep_label + \" merged \" + str(len(patch_hash_list)) + ' hash\" '\n",
    "commit_message += '-m \"\" '\n",
    "for patch_hash in patch_hash_list[::-1]: # hashを新しい順に並べる\n",
    "    commit_message += '-m \"' + src_rep_web_url + \"/commit/\" + patch_hash + '\" '\n",
    "git_commit(commit_message)\n",
    "\n",
    "git_push(\"\")"
   ]
  },
  {
   "cell_type": "code",
   "execution_count": null,
   "metadata": {},
   "outputs": [],
   "source": [
    "# 最後にworkディレクトリを消して終了\n",
    "shutil.rmtree(work_dir)"
   ]
  },
  {
   "cell_type": "code",
   "execution_count": null,
   "metadata": {},
   "outputs": [],
   "source": []
  }
 ],
 "metadata": {
  "kernelspec": {
   "display_name": "Python 3",
   "language": "python",
   "name": "python3"
  },
  "language_info": {
   "codemirror_mode": {
    "name": "ipython",
    "version": 3
   },
   "file_extension": ".py",
   "mimetype": "text/x-python",
   "name": "python",
   "nbconvert_exporter": "python",
   "pygments_lexer": "ipython3",
   "version": "3.6.4"
  }
 },
 "nbformat": 4,
 "nbformat_minor": 2
}
